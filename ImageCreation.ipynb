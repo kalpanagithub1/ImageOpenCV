{
 "cells": [
  {
   "cell_type": "code",
   "execution_count": 137,
   "metadata": {},
   "outputs": [],
   "source": [
    "#_Image_Creation\n",
    "\n",
    "import cv2\n",
    "\n",
    "axes = (250,140)\n",
    "angle =  180\n",
    "startangle = -52\n",
    "endangle = -126\n",
    "center = (400,250)\n",
    "color = (42,149,160)\n",
    "img = numpy.zeros((600,800,3))\n",
    "p1 = cv2.rectangle(img ,(250,120),(330,170),[0,255,0],2)\n",
    "flipped = cv2.flip(p1,1)\n",
    "p2 = cv2.ellipse(flipped,center,axes,angle,startangle,endangle,color,10)\n",
    "p3 = cv2.rectangle(flipped ,(250,120),(330,170),[248,252,3],-10)\n",
    "p4 = cv2.rectangle(p3 , (150,60),(640,500),[255,255,255], 4)\n",
    "p5 = cv2.rectangle(p4, (400,300),(400,200),[0,255,0], 2 )\n",
    "cv2.imshow('image',p5)\n",
    "cv2.waitKey(0)\n",
    "cv2.destroyAllWindows()"
   ]
  },
  {
   "cell_type": "code",
   "execution_count": 134,
   "metadata": {},
   "outputs": [],
   "source": [
    "\n"
   ]
  },
  {
   "cell_type": "code",
   "execution_count": null,
   "metadata": {},
   "outputs": [],
   "source": []
  },
  {
   "cell_type": "code",
   "execution_count": null,
   "metadata": {},
   "outputs": [],
   "source": []
  },
  {
   "cell_type": "code",
   "execution_count": null,
   "metadata": {},
   "outputs": [],
   "source": []
  },
  {
   "cell_type": "code",
   "execution_count": null,
   "metadata": {},
   "outputs": [],
   "source": []
  }
 ],
 "metadata": {
  "kernelspec": {
   "display_name": "Python 3",
   "language": "python",
   "name": "python3"
  },
  "language_info": {
   "codemirror_mode": {
    "name": "ipython",
    "version": 3
   },
   "file_extension": ".py",
   "mimetype": "text/x-python",
   "name": "python",
   "nbconvert_exporter": "python",
   "pygments_lexer": "ipython3",
   "version": "3.7.6"
  }
 },
 "nbformat": 4,
 "nbformat_minor": 4
}

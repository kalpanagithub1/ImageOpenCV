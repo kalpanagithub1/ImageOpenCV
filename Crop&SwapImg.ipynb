{
 "cells": [
  {
   "cell_type": "code",
   "execution_count": 27,
   "metadata": {},
   "outputs": [],
   "source": [
    "#TASK 4.2\n",
    "#Crop N Swap\n",
    "\n",
    "#OriginalImage_1\n",
    "import cv2\n",
    "import numpy\n",
    "photo1 = cv2.imread('black.png' )\n",
    "cv2.imshow('BlackPup', photo1)\n",
    "cv2.waitKey(0)\n",
    "cv2.destroyAllWindows()\n",
    "\n",
    "#OriginalImage_2\n",
    "photo2 = cv2.imread('white.jpg' )\n",
    "cv2.imshow('WhitePup', photo2)\n",
    "cv2.waitKey(0)\n",
    "cv2.destroyAllWindows()\n",
    "\n",
    "#CroppedImage_1\n",
    "cphoto1= photo1[30:400 , 200:530]\n",
    "cv2.imshow('Cropped_BlackPup', cphoto1)\n",
    "cv2.waitKey(0)\n",
    "cv2.destroyAllWindows()\n",
    "\n",
    "#CroppedImage_2\n",
    "cphoto2= photo2[30:400 , 200:530]\n",
    "cv2.imshow('Cropped_WhitePup', cphoto2)\n",
    "cv2.waitKey(0)\n",
    "cv2.destroyAllWindows()\n",
    "\n",
    "#SWAPPING\n",
    "crop1 = numpy.copy(cphoto1)\n",
    "crop2 = numpy.copy(cphoto2)\n",
    "photo1[30:400 , 200:530]=crop2\n",
    "photo2[30:400 , 200:530] =crop1\n",
    "\n",
    "# Swapped_Image1\n",
    "photo1[30:400 , 200:530] =crop2\n",
    "cv2.imshow('Black_White', photo1)\n",
    "cv2.waitKey(0)\n",
    "cv2.destroyAllWindows()\n",
    "\n",
    "# Swapped_Image2\n",
    "photo2[30:400 , 200:530]=crop1\n",
    "cv2.imshow('White_Black',photo2)\n",
    "cv2.waitKey(0)\n",
    "cv2.destroyAllWindows()"
   ]
  },
  {
   "cell_type": "code",
   "execution_count": 9,
   "metadata": {},
   "outputs": [],
   "source": [
    "# cphoto1 = photo1[80:370, 370:660]\n",
    "# cv2.imshow('BlackPup', cphoto1)\n",
    "# cv2.waitKey()\n",
    "# cv2.destroyAllWindows() "
   ]
  },
  {
   "cell_type": "code",
   "execution_count": null,
   "metadata": {},
   "outputs": [],
   "source": []
  }
 ],
 "metadata": {
  "kernelspec": {
   "display_name": "Python 3",
   "language": "python",
   "name": "python3"
  },
  "language_info": {
   "codemirror_mode": {
    "name": "ipython",
    "version": 3
   },
   "file_extension": ".py",
   "mimetype": "text/x-python",
   "name": "python",
   "nbconvert_exporter": "python",
   "pygments_lexer": "ipython3",
   "version": "3.7.6"
  }
 },
 "nbformat": 4,
 "nbformat_minor": 4
}
